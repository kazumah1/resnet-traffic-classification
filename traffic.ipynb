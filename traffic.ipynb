{
  "cells": [
    {
      "cell_type": "markdown",
      "metadata": {
        "id": "view-in-github",
        "colab_type": "text"
      },
      "source": [
        "<a href=\"https://colab.research.google.com/github/kazumah1/resnet-traffic-classification/blob/main/traffic.ipynb\" target=\"_parent\"><img src=\"https://colab.research.google.com/assets/colab-badge.svg\" alt=\"Open In Colab\"/></a>"
      ]
    },
    {
      "cell_type": "code",
      "execution_count": null,
      "metadata": {
        "colab": {
          "base_uri": "https://localhost:8080/"
        },
        "id": "RHGmm7UqNkxO",
        "outputId": "9e773490-793d-4470-8a29-99be08b748e8"
      },
      "outputs": [
        {
          "name": "stdout",
          "output_type": "stream",
          "text": [
            "/bin/bash: line 1: nvidia-smi: command not found\n"
          ]
        }
      ],
      "source": [
        "!nvidia-smi"
      ]
    },
    {
      "cell_type": "code",
      "execution_count": null,
      "metadata": {
        "id": "pyX6Ejqz-FLp"
      },
      "outputs": [],
      "source": [
        "import kagglehub\n",
        "import os\n",
        "from IPython.display import Image, display\n",
        "import pandas as pd\n",
        "import numpy as np"
      ]
    },
    {
      "cell_type": "code",
      "execution_count": null,
      "metadata": {
        "colab": {
          "base_uri": "https://localhost:8080/"
        },
        "id": "3li4NVsI-Qa5",
        "outputId": "cad06705-2549-49e3-8157-ae3f4c3e8bdd"
      },
      "outputs": [
        {
          "name": "stdout",
          "output_type": "stream",
          "text": [
            "Using Colab cache for faster access to the 'street-objects' dataset.\n",
            "Path to dataset files: /kaggle/input/street-objects\n"
          ]
        }
      ],
      "source": [
        "import kagglehub\n",
        "\n",
        "path = kagglehub.dataset_download(\"owm4096/street-objects\")\n",
        "\n",
        "print(\"Path to dataset files:\", path)"
      ]
    },
    {
      "cell_type": "code",
      "execution_count": null,
      "metadata": {
        "colab": {
          "base_uri": "https://localhost:8080/"
        },
        "id": "6cINZkpe-aXe",
        "outputId": "2bda2f18-142d-4025-c970-802f0ebe006b"
      },
      "outputs": [
        {
          "name": "stdout",
          "output_type": "stream",
          "text": [
            "['dataset', 'paths.csv']\n"
          ]
        }
      ],
      "source": [
        "print(os.listdir(path))"
      ]
    },
    {
      "cell_type": "code",
      "execution_count": null,
      "metadata": {
        "colab": {
          "base_uri": "https://localhost:8080/"
        },
        "collapsed": true,
        "id": "KDM_6qdV-9Y4",
        "outputId": "dd374355-75b4-493a-ccab-1b3acd66bd5d"
      },
      "outputs": [
        {
          "name": "stdout",
          "output_type": "stream",
          "text": [
            "         i                                              image  label\n",
            "0        0  /kaggle/input/street-objects/dataset/bicycle/1...      0\n",
            "1        1  /kaggle/input/street-objects/dataset/bicycle/1...      0\n",
            "2        2  /kaggle/input/street-objects/dataset/bicycle/1...      0\n",
            "3        3  /kaggle/input/street-objects/dataset/bicycle/1...      0\n",
            "4        4  /kaggle/input/street-objects/dataset/bicycle/1...      0\n",
            "...    ...                                                ...    ...\n",
            "9874  9874  /kaggle/input/street-objects/dataset/truck/987...      6\n",
            "9875  9875  /kaggle/input/street-objects/dataset/truck/987...      6\n",
            "9876  9876  /kaggle/input/street-objects/dataset/truck/987...      6\n",
            "9877  9877  /kaggle/input/street-objects/dataset/truck/996...      6\n",
            "9878  9878  /kaggle/input/street-objects/dataset/truck/997...      6\n",
            "\n",
            "[9879 rows x 3 columns]\n"
          ]
        }
      ],
      "source": [
        "import json\n",
        "labels_path = path + '/paths.csv'\n",
        "labels_df = pd.read_csv(labels_path)\n",
        "labels_df.rename({\"Unnamed: 0\": \"i\"}, axis='columns', errors=\"raise\", inplace=True)\n",
        "print(labels_df)"
      ]
    },
    {
      "cell_type": "code",
      "execution_count": null,
      "metadata": {
        "id": "QOy_mvwB_u1s"
      },
      "outputs": [],
      "source": [
        "from torchvision.models import resnet18\n",
        "import torch\n",
        "from torch import tensor\n",
        "from torch.utils.data import Dataset, DataLoader, random_split\n",
        "from torchvision.io import read_image\n",
        "import torchvision.transforms.v2 as v2\n",
        "import torch.nn as nn\n",
        "import torch.optim as optim"
      ]
    },
    {
      "cell_type": "code",
      "execution_count": null,
      "metadata": {
        "id": "hkJjt4hKZsit"
      },
      "outputs": [],
      "source": [
        "class ImageDataset(Dataset):\n",
        "  def __init__(self, df, transform):\n",
        "    self.df = df\n",
        "    self.transform = transform\n",
        "  def __len__(self):\n",
        "    return len(self.df)\n",
        "  def __getitem__(self, idx):\n",
        "    row = self.df.iloc[idx]\n",
        "    image = read_image(row['image'])\n",
        "    if self.transform:\n",
        "      image = self.transform(image)\n",
        "    label = tensor([row['label']], dtype=torch.long)\n",
        "    return (image, label)"
      ]
    },
    {
      "cell_type": "code",
      "execution_count": null,
      "metadata": {
        "colab": {
          "base_uri": "https://localhost:8080/"
        },
        "id": "I7_7K8Hao6UC",
        "outputId": "a57d0ca5-2617-43de-e1e6-3166140eb327"
      },
      "outputs": [
        {
          "name": "stdout",
          "output_type": "stream",
          "text": [
            "cpu\n"
          ]
        }
      ],
      "source": [
        "model = resnet18()\n",
        "device = \"cuda\" if torch.cuda.is_available() else \"cpu\"\n",
        "model.fc = nn.Linear(model.fc.in_features, 7)\n",
        "model.to(device)\n",
        "print(device)\n"
      ]
    },
    {
      "cell_type": "code",
      "execution_count": null,
      "metadata": {
        "id": "Cemff9VfXrU-"
      },
      "outputs": [],
      "source": [
        "transform = v2.Compose([\n",
        "                        v2.Resize((224, 224)),\n",
        "                        v2.ToDtype(torch.float32, scale=True)\n",
        "                        ])\n",
        "dataset = ImageDataset(labels_df, transform)"
      ]
    },
    {
      "cell_type": "code",
      "execution_count": null,
      "metadata": {
        "colab": {
          "base_uri": "https://localhost:8080/"
        },
        "id": "DVezpmJZRiYD",
        "outputId": "0dc5a915-834c-42db-b049-d3ab83846744"
      },
      "outputs": [
        {
          "name": "stdout",
          "output_type": "stream",
          "text": [
            "7903\n",
            "1976\n"
          ]
        }
      ],
      "source": [
        "generator = torch.Generator().manual_seed(42)\n",
        "train_size = int(0.8 * len(dataset))\n",
        "val_size = len(dataset) - train_size\n",
        "\n",
        "train_dataset, val_dataset = random_split(dataset, [train_size, val_size])\n",
        "print(len(train_dataset))\n",
        "print(len(val_dataset))"
      ]
    },
    {
      "cell_type": "code",
      "execution_count": null,
      "metadata": {
        "id": "koFKp-UWSgr3"
      },
      "outputs": [],
      "source": [
        "train_loader = DataLoader(train_dataset, batch_size=64, shuffle=True)\n",
        "val_loader = DataLoader(val_dataset, batch_size=64, shuffle=False)"
      ]
    },
    {
      "cell_type": "code",
      "execution_count": null,
      "metadata": {
        "id": "ztM4mc50UCpC"
      },
      "outputs": [],
      "source": [
        "def train(lr=0.001, epochs=8, verbose=True, from_base=True):\n",
        "  if from_base:\n",
        "    model = resnet18()\n",
        "    device = \"cuda\" if torch.cuda.is_available() else \"cpu\"\n",
        "    model.fc = nn.Linear(model.fc.in_features, 7)\n",
        "    model.to(device)\n",
        "\n",
        "\n",
        "  criterion = nn.CrossEntropyLoss()\n",
        "\n",
        "  optimizer = optim.Adam(model.parameters(), lr=lr)\n",
        "  num_epochs = 8\n",
        "\n",
        "  train_losses = []\n",
        "  val_losses = []\n",
        "  val_accuracies = []\n",
        "\n",
        "  for epoch in range(num_epochs):\n",
        "    model.train()\n",
        "    running_loss = 0.0\n",
        "\n",
        "    for images, labels in train_loader:\n",
        "      images, labels = images.to(device), labels.to(device)\n",
        "      optimizer.zero_grad()\n",
        "      outputs = model(images)\n",
        "      labels = labels.squeeze(-1)\n",
        "      loss = criterion(outputs, labels)\n",
        "      loss.backward()\n",
        "      optimizer.step()\n",
        "\n",
        "      running_loss += loss.item()\n",
        "\n",
        "    train_losses.append(running_loss / len(train_loader))\n",
        "\n",
        "    model.eval()\n",
        "    val_loss = 0.0\n",
        "    correct = 0\n",
        "    total = 0\n",
        "\n",
        "    with torch.no_grad():\n",
        "      for images, labels in val_loader:\n",
        "        images, labels = images.to(device), labels.to(device)\n",
        "        outputs = model(images)\n",
        "        labels = labels.squeeze(-1)\n",
        "        loss = criterion(outputs, labels)\n",
        "\n",
        "        val_loss += loss.item()\n",
        "        _, predicted = torch.max(outputs, 1)\n",
        "        total += labels.size(0)\n",
        "        correct += (predicted == labels).sum().item()\n",
        "\n",
        "    val_losses.append(val_loss / len(val_loader))\n",
        "    val_accuracies.append(100 * correct / total)\n",
        "\n",
        "    if verbose:\n",
        "      print(f\"Epoch {epoch+1} | Train Loss: {train_losses[-1]:.4f} | \"\n",
        "            f\"Val Loss: {val_losses[-1]:.4f} | Val Accuracy: {val_accuracies[-1]:.2f}%\")\n",
        "  if verbose:\n",
        "    print(f\"Learning rate: {lr} | Val Accuracy: {val_accuracies}\")\n",
        "\n",
        "  torch.save(model.state_dict(), f'{lr}_resnet.pth')\n",
        "  return train_losses, val_losses, val_accuracies, model"
      ]
    },
    {
      "cell_type": "code",
      "execution_count": null,
      "metadata": {
        "colab": {
          "background_save": true
        },
        "id": "CUcNfdSafDq7",
        "outputId": "c341a24c-2e69-4086-fe82-6a2b499750bd"
      },
      "outputs": [
        {
          "name": "stdout",
          "output_type": "stream",
          "text": [
            "Epoch 1 | Train Loss: 1.5313 | Val Loss: 1.4205 | Val Accuracy: 50.56%\n"
          ]
        }
      ],
      "source": [
        "train_ls = []\n",
        "val_ls = []\n",
        "accs = []\n",
        "lrs = [0.01, 0.005, 0.001, 0.0005, 0.0001]\n",
        "for lr in lrs:\n",
        "  train_losses, val_losses, val_accuracies, curr_model = train(lr=lr, epochs=3)\n",
        "  train_ls.append(train_losses)\n",
        "  val_ls.append(val_losses)\n",
        "  accs.append(val_accuracies)"
      ]
    },
    {
      "cell_type": "code",
      "execution_count": null,
      "metadata": {
        "id": "sdWpLUljmeue"
      },
      "outputs": [],
      "source": [
        "import matplotlib.pyplot as plt\n",
        "\n",
        "# Plot\n",
        "plt.figure(figsize=(10, 6))\n",
        "for i in range(len(lrs)):\n",
        "    plt.plot(range(1, 9), accs[i], marker='o', label=f\"LR = {lrs[i]}\")\n",
        "\n",
        "plt.xlabel(\"Epoch\")\n",
        "plt.ylabel(\"Validation Accuracy (%)\")\n",
        "plt.title(\"Learning Rate Tuning Results\")\n",
        "plt.legend()\n",
        "plt.grid(True)\n",
        "plt.show()"
      ]
    },
    {
      "cell_type": "code",
      "execution_count": null,
      "metadata": {
        "id": "-XvZjU8gHKAX"
      },
      "outputs": [],
      "source": [
        "import matplotlib.pyplot as plt\n",
        "\n",
        "plt.figure(figsize=(12, 5))\n",
        "\n",
        "# 🔴 Plot Loss\n",
        "plt.subplot(1, 2, 1)\n",
        "plt.plot(train_losses, label='Training Loss', marker='o')\n",
        "plt.plot(val_losses, label='Validation Loss', marker='o')\n",
        "plt.xlabel('Epoch')\n",
        "plt.ylabel('Loss')\n",
        "plt.title('Loss over Epochs')\n",
        "plt.legend()\n",
        "\n",
        "# 🟢 Plot Accuracy\n",
        "plt.subplot(1, 2, 2)\n",
        "plt.plot(val_accuracies, label='Validation Accuracy (%)', color='green', marker='o')\n",
        "plt.xlabel('Epoch')\n",
        "plt.ylabel('Accuracy')\n",
        "plt.title('Validation Accuracy over Epochs')\n",
        "plt.legend()\n",
        "\n",
        "plt.tight_layout()\n",
        "plt.show()"
      ]
    },
    {
      "cell_type": "code",
      "execution_count": null,
      "metadata": {
        "id": "lVMQXMNvHNVW"
      },
      "outputs": [],
      "source": [
        "from sklearn.metrics import confusion_matrix, classification_report, ConfusionMatrixDisplay\n",
        "\n",
        "# Collect all true and predicted labels\n",
        "all_preds = []\n",
        "all_labels = []\n",
        "\n",
        "model.eval()\n",
        "with torch.no_grad():\n",
        "    for images, labels in val_loader:\n",
        "        images, labels = images.to(device), labels.to(device)\n",
        "        outputs = curr_model(images)\n",
        "        _, preds = torch.max(outputs, 1)\n",
        "\n",
        "        all_preds.extend(preds.cpu().numpy().flatten())\n",
        "        all_labels.extend(labels.cpu().numpy().flatten())\n",
        "\n",
        "\n",
        "# Generate confusion matrix\n",
        "cm = confusion_matrix(all_labels, all_preds)\n",
        "disp = ConfusionMatrixDisplay(confusion_matrix=cm, display_labels=['bicycle', 'car', 'limit30', 'person', 'stop', 'trafficlight', 'truck'])\n",
        "\n",
        "print(\"Model output shape:\", outputs.shape)\n",
        "print(\"labels:\", np.unique(all_labels))\n",
        "print(\"preds: \", np.unique(all_preds))\n",
        "# Plot\n",
        "plt.figure(figsize=(8, 6))\n",
        "disp.plot(cmap='Blues', xticks_rotation=45)\n",
        "plt.title(\" Confusion Matrix - Validation Set\")\n",
        "plt.grid(False)\n",
        "plt.show()"
      ]
    }
  ],
  "metadata": {
    "accelerator": "GPU",
    "colab": {
      "gpuType": "T4",
      "provenance": [],
      "authorship_tag": "ABX9TyPeZAG04KmnYpffNigBJd/u",
      "include_colab_link": true
    },
    "kernelspec": {
      "display_name": "Python 3",
      "name": "python3"
    },
    "language_info": {
      "name": "python"
    }
  },
  "nbformat": 4,
  "nbformat_minor": 0
}